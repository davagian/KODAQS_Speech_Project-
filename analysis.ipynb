{
 "cells": [
  {
   "cell_type": "markdown",
   "metadata": {},
   "source": [
    "Installations"
   ]
  },
  {
   "cell_type": "code",
   "execution_count": 1,
   "metadata": {},
   "outputs": [
    {
     "name": "stdout",
     "output_type": "stream",
     "text": [
      "Requirement already satisfied: huggingface_hub in c:\\users\\david\\desktop\\phd spring 2025\\kodaq\\speech-analysis-project\\my-jupyter-notebook\\.conda\\lib\\site-packages (0.30.2)\n",
      "Requirement already satisfied: filelock in c:\\users\\david\\desktop\\phd spring 2025\\kodaq\\speech-analysis-project\\my-jupyter-notebook\\.conda\\lib\\site-packages (from huggingface_hub) (3.18.0)\n",
      "Requirement already satisfied: fsspec>=2023.5.0 in c:\\users\\david\\desktop\\phd spring 2025\\kodaq\\speech-analysis-project\\my-jupyter-notebook\\.conda\\lib\\site-packages (from huggingface_hub) (2024.12.0)\n",
      "Requirement already satisfied: packaging>=20.9 in c:\\users\\david\\appdata\\local\\programs\\positron\\resources\\app\\extensions\\positron-python\\python_files\\lib\\ipykernel\\py3 (from huggingface_hub) (24.2)\n",
      "Requirement already satisfied: pyyaml>=5.1 in c:\\users\\david\\desktop\\phd spring 2025\\kodaq\\speech-analysis-project\\my-jupyter-notebook\\.conda\\lib\\site-packages (from huggingface_hub) (6.0.2)\n",
      "Requirement already satisfied: requests in c:\\users\\david\\desktop\\phd spring 2025\\kodaq\\speech-analysis-project\\my-jupyter-notebook\\.conda\\lib\\site-packages (from huggingface_hub) (2.32.3)\n",
      "Requirement already satisfied: tqdm>=4.42.1 in c:\\users\\david\\desktop\\phd spring 2025\\kodaq\\speech-analysis-project\\my-jupyter-notebook\\.conda\\lib\\site-packages (from huggingface_hub) (4.67.1)\n",
      "Requirement already satisfied: typing-extensions>=3.7.4.3 in c:\\users\\david\\appdata\\local\\programs\\positron\\resources\\app\\extensions\\positron-python\\python_files\\lib\\ipykernel\\py3 (from huggingface_hub) (4.12.2)\n",
      "Requirement already satisfied: colorama in c:\\users\\david\\desktop\\phd spring 2025\\kodaq\\speech-analysis-project\\my-jupyter-notebook\\.conda\\lib\\site-packages (from tqdm>=4.42.1->huggingface_hub) (0.4.6)\n",
      "Requirement already satisfied: charset-normalizer<4,>=2 in c:\\users\\david\\desktop\\phd spring 2025\\kodaq\\speech-analysis-project\\my-jupyter-notebook\\.conda\\lib\\site-packages (from requests->huggingface_hub) (3.4.1)\n",
      "Requirement already satisfied: idna<4,>=2.5 in c:\\users\\david\\desktop\\phd spring 2025\\kodaq\\speech-analysis-project\\my-jupyter-notebook\\.conda\\lib\\site-packages (from requests->huggingface_hub) (3.10)\n",
      "Requirement already satisfied: urllib3<3,>=1.21.1 in c:\\users\\david\\desktop\\phd spring 2025\\kodaq\\speech-analysis-project\\my-jupyter-notebook\\.conda\\lib\\site-packages (from requests->huggingface_hub) (2.4.0)\n",
      "Requirement already satisfied: certifi>=2017.4.17 in c:\\users\\david\\desktop\\phd spring 2025\\kodaq\\speech-analysis-project\\my-jupyter-notebook\\.conda\\lib\\site-packages (from requests->huggingface_hub) (2025.1.31)\n",
      "Note: you may need to restart the kernel to use updated packages.\n",
      "Requirement already satisfied: transformers==4.45.2 in c:\\users\\david\\desktop\\phd spring 2025\\kodaq\\speech-analysis-project\\my-jupyter-notebook\\.conda\\lib\\site-packages (4.45.2)\n",
      "Requirement already satisfied: sentence-transformers==3.1.1 in c:\\users\\david\\desktop\\phd spring 2025\\kodaq\\speech-analysis-project\\my-jupyter-notebook\\.conda\\lib\\site-packages (3.1.1)\n",
      "Requirement already satisfied: filelock in c:\\users\\david\\desktop\\phd spring 2025\\kodaq\\speech-analysis-project\\my-jupyter-notebook\\.conda\\lib\\site-packages (from transformers==4.45.2) (3.18.0)\n",
      "Requirement already satisfied: huggingface-hub<1.0,>=0.23.2 in c:\\users\\david\\desktop\\phd spring 2025\\kodaq\\speech-analysis-project\\my-jupyter-notebook\\.conda\\lib\\site-packages (from transformers==4.45.2) (0.30.2)\n",
      "Requirement already satisfied: numpy>=1.17 in c:\\users\\david\\desktop\\phd spring 2025\\kodaq\\speech-analysis-project\\my-jupyter-notebook\\.conda\\lib\\site-packages (from transformers==4.45.2) (2.2.4)\n",
      "Requirement already satisfied: packaging>=20.0 in c:\\users\\david\\appdata\\local\\programs\\positron\\resources\\app\\extensions\\positron-python\\python_files\\lib\\ipykernel\\py3 (from transformers==4.45.2) (24.2)\n",
      "Requirement already satisfied: pyyaml>=5.1 in c:\\users\\david\\desktop\\phd spring 2025\\kodaq\\speech-analysis-project\\my-jupyter-notebook\\.conda\\lib\\site-packages (from transformers==4.45.2) (6.0.2)\n",
      "Requirement already satisfied: regex!=2019.12.17 in c:\\users\\david\\desktop\\phd spring 2025\\kodaq\\speech-analysis-project\\my-jupyter-notebook\\.conda\\lib\\site-packages (from transformers==4.45.2) (2024.11.6)\n",
      "Requirement already satisfied: requests in c:\\users\\david\\desktop\\phd spring 2025\\kodaq\\speech-analysis-project\\my-jupyter-notebook\\.conda\\lib\\site-packages (from transformers==4.45.2) (2.32.3)\n",
      "Requirement already satisfied: safetensors>=0.4.1 in c:\\users\\david\\desktop\\phd spring 2025\\kodaq\\speech-analysis-project\\my-jupyter-notebook\\.conda\\lib\\site-packages (from transformers==4.45.2) (0.5.3)\n",
      "Requirement already satisfied: tokenizers<0.21,>=0.20 in c:\\users\\david\\desktop\\phd spring 2025\\kodaq\\speech-analysis-project\\my-jupyter-notebook\\.conda\\lib\\site-packages (from transformers==4.45.2) (0.20.3)\n",
      "Requirement already satisfied: tqdm>=4.27 in c:\\users\\david\\desktop\\phd spring 2025\\kodaq\\speech-analysis-project\\my-jupyter-notebook\\.conda\\lib\\site-packages (from transformers==4.45.2) (4.67.1)\n",
      "Requirement already satisfied: torch>=1.11.0 in c:\\users\\david\\desktop\\phd spring 2025\\kodaq\\speech-analysis-project\\my-jupyter-notebook\\.conda\\lib\\site-packages (from sentence-transformers==3.1.1) (2.6.0)\n",
      "Requirement already satisfied: scikit-learn in c:\\users\\david\\desktop\\phd spring 2025\\kodaq\\speech-analysis-project\\my-jupyter-notebook\\.conda\\lib\\site-packages (from sentence-transformers==3.1.1) (1.6.1)\n",
      "Requirement already satisfied: scipy in c:\\users\\david\\desktop\\phd spring 2025\\kodaq\\speech-analysis-project\\my-jupyter-notebook\\.conda\\lib\\site-packages (from sentence-transformers==3.1.1) (1.15.2)\n",
      "Requirement already satisfied: Pillow in c:\\users\\david\\desktop\\phd spring 2025\\kodaq\\speech-analysis-project\\my-jupyter-notebook\\.conda\\lib\\site-packages (from sentence-transformers==3.1.1) (11.1.0)\n",
      "Requirement already satisfied: fsspec>=2023.5.0 in c:\\users\\david\\desktop\\phd spring 2025\\kodaq\\speech-analysis-project\\my-jupyter-notebook\\.conda\\lib\\site-packages (from huggingface-hub<1.0,>=0.23.2->transformers==4.45.2) (2024.12.0)\n",
      "Requirement already satisfied: typing-extensions>=3.7.4.3 in c:\\users\\david\\appdata\\local\\programs\\positron\\resources\\app\\extensions\\positron-python\\python_files\\lib\\ipykernel\\py3 (from huggingface-hub<1.0,>=0.23.2->transformers==4.45.2) (4.12.2)\n",
      "Requirement already satisfied: networkx in c:\\users\\david\\desktop\\phd spring 2025\\kodaq\\speech-analysis-project\\my-jupyter-notebook\\.conda\\lib\\site-packages (from torch>=1.11.0->sentence-transformers==3.1.1) (3.4.2)\n",
      "Requirement already satisfied: jinja2 in c:\\users\\david\\desktop\\phd spring 2025\\kodaq\\speech-analysis-project\\my-jupyter-notebook\\.conda\\lib\\site-packages (from torch>=1.11.0->sentence-transformers==3.1.1) (3.1.6)\n",
      "Requirement already satisfied: sympy==1.13.1 in c:\\users\\david\\desktop\\phd spring 2025\\kodaq\\speech-analysis-project\\my-jupyter-notebook\\.conda\\lib\\site-packages (from torch>=1.11.0->sentence-transformers==3.1.1) (1.13.1)\n",
      "Requirement already satisfied: mpmath<1.4,>=1.1.0 in c:\\users\\david\\desktop\\phd spring 2025\\kodaq\\speech-analysis-project\\my-jupyter-notebook\\.conda\\lib\\site-packages (from sympy==1.13.1->torch>=1.11.0->sentence-transformers==3.1.1) (1.3.0)\n",
      "Requirement already satisfied: colorama in c:\\users\\david\\desktop\\phd spring 2025\\kodaq\\speech-analysis-project\\my-jupyter-notebook\\.conda\\lib\\site-packages (from tqdm>=4.27->transformers==4.45.2) (0.4.6)\n",
      "Requirement already satisfied: charset-normalizer<4,>=2 in c:\\users\\david\\desktop\\phd spring 2025\\kodaq\\speech-analysis-project\\my-jupyter-notebook\\.conda\\lib\\site-packages (from requests->transformers==4.45.2) (3.4.1)\n",
      "Requirement already satisfied: idna<4,>=2.5 in c:\\users\\david\\desktop\\phd spring 2025\\kodaq\\speech-analysis-project\\my-jupyter-notebook\\.conda\\lib\\site-packages (from requests->transformers==4.45.2) (3.10)\n",
      "Requirement already satisfied: urllib3<3,>=1.21.1 in c:\\users\\david\\desktop\\phd spring 2025\\kodaq\\speech-analysis-project\\my-jupyter-notebook\\.conda\\lib\\site-packages (from requests->transformers==4.45.2) (2.4.0)\n",
      "Requirement already satisfied: certifi>=2017.4.17 in c:\\users\\david\\desktop\\phd spring 2025\\kodaq\\speech-analysis-project\\my-jupyter-notebook\\.conda\\lib\\site-packages (from requests->transformers==4.45.2) (2025.1.31)\n",
      "Requirement already satisfied: joblib>=1.2.0 in c:\\users\\david\\desktop\\phd spring 2025\\kodaq\\speech-analysis-project\\my-jupyter-notebook\\.conda\\lib\\site-packages (from scikit-learn->sentence-transformers==3.1.1) (1.4.2)\n",
      "Requirement already satisfied: threadpoolctl>=3.1.0 in c:\\users\\david\\desktop\\phd spring 2025\\kodaq\\speech-analysis-project\\my-jupyter-notebook\\.conda\\lib\\site-packages (from scikit-learn->sentence-transformers==3.1.1) (3.6.0)\n",
      "Requirement already satisfied: MarkupSafe>=2.0 in c:\\users\\david\\desktop\\phd spring 2025\\kodaq\\speech-analysis-project\\my-jupyter-notebook\\.conda\\lib\\site-packages (from jinja2->torch>=1.11.0->sentence-transformers==3.1.1) (3.0.2)\n",
      "Note: you may need to restart the kernel to use updated packages.\n",
      "Requirement already satisfied: setfit in c:\\users\\david\\desktop\\phd spring 2025\\kodaq\\speech-analysis-project\\my-jupyter-notebook\\.conda\\lib\\site-packages (1.1.2)\n",
      "Requirement already satisfied: datasets in c:\\users\\david\\desktop\\phd spring 2025\\kodaq\\speech-analysis-project\\my-jupyter-notebook\\.conda\\lib\\site-packages (3.5.0)\n",
      "Requirement already satisfied: sentence-transformers>=3 in c:\\users\\david\\desktop\\phd spring 2025\\kodaq\\speech-analysis-project\\my-jupyter-notebook\\.conda\\lib\\site-packages (from sentence-transformers[train]>=3->setfit) (3.1.1)\n",
      "Requirement already satisfied: transformers>=4.41.0 in c:\\users\\david\\desktop\\phd spring 2025\\kodaq\\speech-analysis-project\\my-jupyter-notebook\\.conda\\lib\\site-packages (from setfit) (4.45.2)\n",
      "Requirement already satisfied: evaluate>=0.3.0 in c:\\users\\david\\desktop\\phd spring 2025\\kodaq\\speech-analysis-project\\my-jupyter-notebook\\.conda\\lib\\site-packages (from setfit) (0.4.3)\n",
      "Requirement already satisfied: huggingface_hub>=0.24.0 in c:\\users\\david\\desktop\\phd spring 2025\\kodaq\\speech-analysis-project\\my-jupyter-notebook\\.conda\\lib\\site-packages (from setfit) (0.30.2)\n",
      "Requirement already satisfied: scikit-learn in c:\\users\\david\\desktop\\phd spring 2025\\kodaq\\speech-analysis-project\\my-jupyter-notebook\\.conda\\lib\\site-packages (from setfit) (1.6.1)\n",
      "Requirement already satisfied: packaging in c:\\users\\david\\appdata\\local\\programs\\positron\\resources\\app\\extensions\\positron-python\\python_files\\lib\\ipykernel\\py3 (from setfit) (24.2)\n",
      "Requirement already satisfied: filelock in c:\\users\\david\\desktop\\phd spring 2025\\kodaq\\speech-analysis-project\\my-jupyter-notebook\\.conda\\lib\\site-packages (from datasets) (3.18.0)\n",
      "Requirement already satisfied: numpy>=1.17 in c:\\users\\david\\desktop\\phd spring 2025\\kodaq\\speech-analysis-project\\my-jupyter-notebook\\.conda\\lib\\site-packages (from datasets) (2.2.4)\n",
      "Requirement already satisfied: pyarrow>=15.0.0 in c:\\users\\david\\desktop\\phd spring 2025\\kodaq\\speech-analysis-project\\my-jupyter-notebook\\.conda\\lib\\site-packages (from datasets) (19.0.1)\n",
      "Requirement already satisfied: dill<0.3.9,>=0.3.0 in c:\\users\\david\\desktop\\phd spring 2025\\kodaq\\speech-analysis-project\\my-jupyter-notebook\\.conda\\lib\\site-packages (from datasets) (0.3.8)\n",
      "Requirement already satisfied: pandas in c:\\users\\david\\desktop\\phd spring 2025\\kodaq\\speech-analysis-project\\my-jupyter-notebook\\.conda\\lib\\site-packages (from datasets) (2.2.3)\n",
      "Requirement already satisfied: requests>=2.32.2 in c:\\users\\david\\desktop\\phd spring 2025\\kodaq\\speech-analysis-project\\my-jupyter-notebook\\.conda\\lib\\site-packages (from datasets) (2.32.3)\n",
      "Requirement already satisfied: tqdm>=4.66.3 in c:\\users\\david\\desktop\\phd spring 2025\\kodaq\\speech-analysis-project\\my-jupyter-notebook\\.conda\\lib\\site-packages (from datasets) (4.67.1)\n",
      "Requirement already satisfied: xxhash in c:\\users\\david\\desktop\\phd spring 2025\\kodaq\\speech-analysis-project\\my-jupyter-notebook\\.conda\\lib\\site-packages (from datasets) (3.5.0)\n",
      "Requirement already satisfied: multiprocess<0.70.17 in c:\\users\\david\\desktop\\phd spring 2025\\kodaq\\speech-analysis-project\\my-jupyter-notebook\\.conda\\lib\\site-packages (from datasets) (0.70.16)\n",
      "Requirement already satisfied: fsspec<=2024.12.0,>=2023.1.0 in c:\\users\\david\\desktop\\phd spring 2025\\kodaq\\speech-analysis-project\\my-jupyter-notebook\\.conda\\lib\\site-packages (from fsspec[http]<=2024.12.0,>=2023.1.0->datasets) (2024.12.0)\n",
      "Requirement already satisfied: aiohttp in c:\\users\\david\\desktop\\phd spring 2025\\kodaq\\speech-analysis-project\\my-jupyter-notebook\\.conda\\lib\\site-packages (from datasets) (3.11.16)\n",
      "Requirement already satisfied: pyyaml>=5.1 in c:\\users\\david\\desktop\\phd spring 2025\\kodaq\\speech-analysis-project\\my-jupyter-notebook\\.conda\\lib\\site-packages (from datasets) (6.0.2)\n",
      "Requirement already satisfied: aiohappyeyeballs>=2.3.0 in c:\\users\\david\\desktop\\phd spring 2025\\kodaq\\speech-analysis-project\\my-jupyter-notebook\\.conda\\lib\\site-packages (from aiohttp->datasets) (2.6.1)\n",
      "Requirement already satisfied: aiosignal>=1.1.2 in c:\\users\\david\\desktop\\phd spring 2025\\kodaq\\speech-analysis-project\\my-jupyter-notebook\\.conda\\lib\\site-packages (from aiohttp->datasets) (1.3.2)\n",
      "Requirement already satisfied: attrs>=17.3.0 in c:\\users\\david\\desktop\\phd spring 2025\\kodaq\\speech-analysis-project\\my-jupyter-notebook\\.conda\\lib\\site-packages (from aiohttp->datasets) (25.3.0)\n",
      "Requirement already satisfied: frozenlist>=1.1.1 in c:\\users\\david\\desktop\\phd spring 2025\\kodaq\\speech-analysis-project\\my-jupyter-notebook\\.conda\\lib\\site-packages (from aiohttp->datasets) (1.5.0)\n",
      "Requirement already satisfied: multidict<7.0,>=4.5 in c:\\users\\david\\desktop\\phd spring 2025\\kodaq\\speech-analysis-project\\my-jupyter-notebook\\.conda\\lib\\site-packages (from aiohttp->datasets) (6.4.3)\n",
      "Requirement already satisfied: propcache>=0.2.0 in c:\\users\\david\\desktop\\phd spring 2025\\kodaq\\speech-analysis-project\\my-jupyter-notebook\\.conda\\lib\\site-packages (from aiohttp->datasets) (0.3.1)\n",
      "Requirement already satisfied: yarl<2.0,>=1.17.0 in c:\\users\\david\\desktop\\phd spring 2025\\kodaq\\speech-analysis-project\\my-jupyter-notebook\\.conda\\lib\\site-packages (from aiohttp->datasets) (1.19.0)\n",
      "Requirement already satisfied: typing-extensions>=3.7.4.3 in c:\\users\\david\\appdata\\local\\programs\\positron\\resources\\app\\extensions\\positron-python\\python_files\\lib\\ipykernel\\py3 (from huggingface_hub>=0.24.0->setfit) (4.12.2)\n",
      "Requirement already satisfied: charset-normalizer<4,>=2 in c:\\users\\david\\desktop\\phd spring 2025\\kodaq\\speech-analysis-project\\my-jupyter-notebook\\.conda\\lib\\site-packages (from requests>=2.32.2->datasets) (3.4.1)\n",
      "Requirement already satisfied: idna<4,>=2.5 in c:\\users\\david\\desktop\\phd spring 2025\\kodaq\\speech-analysis-project\\my-jupyter-notebook\\.conda\\lib\\site-packages (from requests>=2.32.2->datasets) (3.10)\n",
      "Requirement already satisfied: urllib3<3,>=1.21.1 in c:\\users\\david\\desktop\\phd spring 2025\\kodaq\\speech-analysis-project\\my-jupyter-notebook\\.conda\\lib\\site-packages (from requests>=2.32.2->datasets) (2.4.0)\n",
      "Requirement already satisfied: certifi>=2017.4.17 in c:\\users\\david\\desktop\\phd spring 2025\\kodaq\\speech-analysis-project\\my-jupyter-notebook\\.conda\\lib\\site-packages (from requests>=2.32.2->datasets) (2025.1.31)\n",
      "Requirement already satisfied: torch>=1.11.0 in c:\\users\\david\\desktop\\phd spring 2025\\kodaq\\speech-analysis-project\\my-jupyter-notebook\\.conda\\lib\\site-packages (from sentence-transformers>=3->sentence-transformers[train]>=3->setfit) (2.6.0)\n",
      "Requirement already satisfied: scipy in c:\\users\\david\\desktop\\phd spring 2025\\kodaq\\speech-analysis-project\\my-jupyter-notebook\\.conda\\lib\\site-packages (from sentence-transformers>=3->sentence-transformers[train]>=3->setfit) (1.15.2)\n",
      "Requirement already satisfied: Pillow in c:\\users\\david\\desktop\\phd spring 2025\\kodaq\\speech-analysis-project\\my-jupyter-notebook\\.conda\\lib\\site-packages (from sentence-transformers>=3->sentence-transformers[train]>=3->setfit) (11.1.0)\n",
      "Requirement already satisfied: accelerate>=0.20.3 in c:\\users\\david\\desktop\\phd spring 2025\\kodaq\\speech-analysis-project\\my-jupyter-notebook\\.conda\\lib\\site-packages (from sentence-transformers[train]>=3->setfit) (1.6.0)\n",
      "Requirement already satisfied: colorama in c:\\users\\david\\desktop\\phd spring 2025\\kodaq\\speech-analysis-project\\my-jupyter-notebook\\.conda\\lib\\site-packages (from tqdm>=4.66.3->datasets) (0.4.6)\n",
      "Requirement already satisfied: regex!=2019.12.17 in c:\\users\\david\\desktop\\phd spring 2025\\kodaq\\speech-analysis-project\\my-jupyter-notebook\\.conda\\lib\\site-packages (from transformers>=4.41.0->setfit) (2024.11.6)\n",
      "Requirement already satisfied: safetensors>=0.4.1 in c:\\users\\david\\desktop\\phd spring 2025\\kodaq\\speech-analysis-project\\my-jupyter-notebook\\.conda\\lib\\site-packages (from transformers>=4.41.0->setfit) (0.5.3)\n",
      "Requirement already satisfied: tokenizers<0.21,>=0.20 in c:\\users\\david\\desktop\\phd spring 2025\\kodaq\\speech-analysis-project\\my-jupyter-notebook\\.conda\\lib\\site-packages (from transformers>=4.41.0->setfit) (0.20.3)\n",
      "Requirement already satisfied: python-dateutil>=2.8.2 in c:\\users\\david\\appdata\\local\\programs\\positron\\resources\\app\\extensions\\positron-python\\python_files\\lib\\ipykernel\\py3 (from pandas->datasets) (2.9.0.post0)\n",
      "Requirement already satisfied: pytz>=2020.1 in c:\\users\\david\\desktop\\phd spring 2025\\kodaq\\speech-analysis-project\\my-jupyter-notebook\\.conda\\lib\\site-packages (from pandas->datasets) (2025.2)\n",
      "Requirement already satisfied: tzdata>=2022.7 in c:\\users\\david\\desktop\\phd spring 2025\\kodaq\\speech-analysis-project\\my-jupyter-notebook\\.conda\\lib\\site-packages (from pandas->datasets) (2025.2)\n",
      "Requirement already satisfied: joblib>=1.2.0 in c:\\users\\david\\desktop\\phd spring 2025\\kodaq\\speech-analysis-project\\my-jupyter-notebook\\.conda\\lib\\site-packages (from scikit-learn->setfit) (1.4.2)\n",
      "Requirement already satisfied: threadpoolctl>=3.1.0 in c:\\users\\david\\desktop\\phd spring 2025\\kodaq\\speech-analysis-project\\my-jupyter-notebook\\.conda\\lib\\site-packages (from scikit-learn->setfit) (3.6.0)\n",
      "Requirement already satisfied: psutil in c:\\users\\david\\appdata\\local\\programs\\positron\\resources\\app\\extensions\\positron-python\\python_files\\lib\\ipykernel\\x64\\cp3 (from accelerate>=0.20.3->sentence-transformers[train]>=3->setfit) (6.1.1)\n",
      "Requirement already satisfied: six>=1.5 in c:\\users\\david\\appdata\\local\\programs\\positron\\resources\\app\\extensions\\positron-python\\python_files\\lib\\ipykernel\\py3 (from python-dateutil>=2.8.2->pandas->datasets) (1.17.0)\n",
      "Requirement already satisfied: networkx in c:\\users\\david\\desktop\\phd spring 2025\\kodaq\\speech-analysis-project\\my-jupyter-notebook\\.conda\\lib\\site-packages (from torch>=1.11.0->sentence-transformers>=3->sentence-transformers[train]>=3->setfit) (3.4.2)\n",
      "Requirement already satisfied: jinja2 in c:\\users\\david\\desktop\\phd spring 2025\\kodaq\\speech-analysis-project\\my-jupyter-notebook\\.conda\\lib\\site-packages (from torch>=1.11.0->sentence-transformers>=3->sentence-transformers[train]>=3->setfit) (3.1.6)\n",
      "Requirement already satisfied: sympy==1.13.1 in c:\\users\\david\\desktop\\phd spring 2025\\kodaq\\speech-analysis-project\\my-jupyter-notebook\\.conda\\lib\\site-packages (from torch>=1.11.0->sentence-transformers>=3->sentence-transformers[train]>=3->setfit) (1.13.1)\n",
      "Requirement already satisfied: mpmath<1.4,>=1.1.0 in c:\\users\\david\\desktop\\phd spring 2025\\kodaq\\speech-analysis-project\\my-jupyter-notebook\\.conda\\lib\\site-packages (from sympy==1.13.1->torch>=1.11.0->sentence-transformers>=3->sentence-transformers[train]>=3->setfit) (1.3.0)\n",
      "Requirement already satisfied: MarkupSafe>=2.0 in c:\\users\\david\\desktop\\phd spring 2025\\kodaq\\speech-analysis-project\\my-jupyter-notebook\\.conda\\lib\\site-packages (from jinja2->torch>=1.11.0->sentence-transformers>=3->sentence-transformers[train]>=3->setfit) (3.0.2)\n",
      "Note: you may need to restart the kernel to use updated packages.\n",
      "Requirement already satisfied: tqdm in c:\\users\\david\\desktop\\phd spring 2025\\kodaq\\speech-analysis-project\\my-jupyter-notebook\\.conda\\lib\\site-packages (4.67.1)\n",
      "Requirement already satisfied: colorama in c:\\users\\david\\desktop\\phd spring 2025\\kodaq\\speech-analysis-project\\my-jupyter-notebook\\.conda\\lib\\site-packages (from tqdm) (0.4.6)\n",
      "Note: you may need to restart the kernel to use updated packages.\n",
      "Requirement already satisfied: pandas in c:\\users\\david\\desktop\\phd spring 2025\\kodaq\\speech-analysis-project\\my-jupyter-notebook\\.conda\\lib\\site-packages (2.2.3)\n",
      "Requirement already satisfied: numpy>=1.23.2 in c:\\users\\david\\desktop\\phd spring 2025\\kodaq\\speech-analysis-project\\my-jupyter-notebook\\.conda\\lib\\site-packages (from pandas) (2.2.4)\n",
      "Requirement already satisfied: python-dateutil>=2.8.2 in c:\\users\\david\\appdata\\local\\programs\\positron\\resources\\app\\extensions\\positron-python\\python_files\\lib\\ipykernel\\py3 (from pandas) (2.9.0.post0)\n",
      "Requirement already satisfied: pytz>=2020.1 in c:\\users\\david\\desktop\\phd spring 2025\\kodaq\\speech-analysis-project\\my-jupyter-notebook\\.conda\\lib\\site-packages (from pandas) (2025.2)\n",
      "Requirement already satisfied: tzdata>=2022.7 in c:\\users\\david\\desktop\\phd spring 2025\\kodaq\\speech-analysis-project\\my-jupyter-notebook\\.conda\\lib\\site-packages (from pandas) (2025.2)\n",
      "Requirement already satisfied: six>=1.5 in c:\\users\\david\\appdata\\local\\programs\\positron\\resources\\app\\extensions\\positron-python\\python_files\\lib\\ipykernel\\py3 (from python-dateutil>=2.8.2->pandas) (1.17.0)\n",
      "Note: you may need to restart the kernel to use updated packages.\n"
     ]
    }
   ],
   "source": [
    "%pip install -U huggingface_hub\n",
    "%pip install transformers==4.45.2 sentence-transformers==3.1.1\n",
    "%pip install setfit datasets\n",
    "%pip install tqdm\n",
    "%pip install pandas"
   ]
  },
  {
   "cell_type": "markdown",
   "metadata": {},
   "source": [
    "Model training"
   ]
  },
  {
   "cell_type": "code",
   "execution_count": 3,
   "metadata": {},
   "outputs": [
    {
     "name": "stdout",
     "output_type": "stream",
     "text": [
      "Label Mapping (Labels to Numbers): {'критикует правительство России': 0, 'нейтрален в отношении правительства России': 1, 'выражает поддержку правительству России': 2}\n"
     ]
    },
    {
     "name": "stderr",
     "output_type": "stream",
     "text": [
      "model_head.pkl not found on HuggingFace Hub, initialising classification head with random weights. You should TRAIN this model on a downstream task to use it for predictions and inference.\n",
      "<positron-console-cell-6>:29: DeprecationWarning: `SetFitTrainer` has been deprecated and will be removed in v2.0.0 of SetFit. Please use `Trainer` instead.\n",
      "Applying column mapping to the training dataset\n",
      "Applying column mapping to the evaluation dataset\n",
      "Map: 100%|██████████| 48/48 [00:00<00:00, 3696.58 examples/s]\n",
      "***** Running training *****\n",
      "  Num unique pairs = 1920\n",
      "  Batch size = 16\n",
      "  Num epochs = 5\n",
      "  0%|          | 1/600 [00:05<50:56,  5.10s/it]"
     ]
    },
    {
     "name": "stdout",
     "output_type": "stream",
     "text": [
      "{'embedding_loss': 0.1994, 'grad_norm': 2.5136122703552246, 'learning_rate': 3.3333333333333335e-07, 'epoch': 0.01}\n"
     ]
    },
    {
     "name": "stderr",
     "output_type": "stream",
     "text": [
      "  1%|          | 6/600 [00:30<50:10,  5.07s/it]"
     ]
    }
   ],
   "source": [
    "import pandas as pd\n",
    "from datasets import Dataset\n",
    "from setfit import SetFitModel, SetFitTrainer\n",
    "from sklearn.model_selection import train_test_split\n",
    "from tqdm import tqdm\n",
    "import shutil\n",
    "\n",
    "# Load training data\n",
    "example_df = pd.read_csv(\"../data/raw/training_dataset.csv\")\n",
    "\n",
    "# Rename the \"label\" column to \"teq_label\" (if needed)\n",
    "example_df = example_df.rename(columns={\"label\": \"teq_label\"})\n",
    "\n",
    "# Convert categorical labels to numbers\n",
    "label_mapping = {label: idx for idx, label in enumerate(set(example_df[\"Labels\"].tolist()))}\n",
    "print(\"Label Mapping (Labels to Numbers):\", label_mapping)\n",
    "\n",
    "example_df[\"Labels\"] = example_df[\"Labels\"].map(label_mapping)\n",
    "\n",
    "# Split into training and validation sets\n",
    "train_df, val_df = train_test_split(example_df, test_size=0.2, random_state=1234)\n",
    "train_dataset = Dataset.from_pandas(train_df)\n",
    "val_dataset = Dataset.from_pandas(val_df)\n",
    "\n",
    "# Load the SetFit model\n",
    "model = SetFitModel.from_pretrained(\"sentence-transformers/distiluse-base-multilingual-cased-v2\")\n",
    "\n",
    "# Train the model properly\n",
    "trainer = SetFitTrainer(\n",
    "    model=model,\n",
    "    train_dataset=train_dataset,\n",
    "    eval_dataset=val_dataset,  # Add validation set\n",
    "    batch_size=16,\n",
    "    num_epochs=5,\n",
    "    column_mapping={\"filtered_text\": \"text\", \"Labels\": \"label\"}\n",
    ")\n",
    "trainer.train()\n",
    "model_save_path = \"trained_setfit_model_second_run\"\n",
    "trainer.model.save_pretrained(model_save_path)\n",
    "# Create a zip archive of the saved model directory\n",
    "shutil.make_archive(model_save_path, 'zip', model_save_path)"
   ]
  },
  {
   "cell_type": "markdown",
   "metadata": {},
   "source": [
    "Using the model for classification of the dataset "
   ]
  },
  {
   "cell_type": "code",
   "execution_count": null,
   "metadata": {},
   "outputs": [],
   "source": [
    "import pandas as pd\n",
    "from setfit import SetFitModel, SetFitTrainer\n",
    "from tqdm import tqdm\n",
    "# Load the dataset for classification\n",
    "classification_data = pd.read_csv(\"executive_speeches_trimmed.csv\")\n",
    "\n",
    "model_path = \"trained_setfit_model_second_run\"\n",
    "executive_classifier = SetFitModel.from_pretrained(model_path)\n",
    "\n",
    "# Predict labels using the trained SetFit model\n",
    "predictions = []\n",
    "batch_size = 1000  # Adjust batch size as needed\n",
    "\n",
    "# Use tqdm to show progress\n",
    "for i in tqdm(range(0, len(classification_data), batch_size), desc=\"Predicting labels\"):\n",
    "    batch = classification_data[\"filtered_text\"][i:i + batch_size].tolist()\n",
    "    predictions.extend(executive_classifier.predict(batch))\n",
    "\n",
    "classification_data[\"setfit_labels\"] = predictions\n",
    "\n",
    "# Save the updated dataset with predictions\n",
    "classification_data.to_csv(\"classified_results_executive_speeches_with_predictions.csv\", index=False)"
   ]
  }
 ],
 "metadata": {
  "language_info": {
   "name": "python"
  }
 },
 "nbformat": 4,
 "nbformat_minor": 2
}
